{
 "cells": [
  {
   "cell_type": "markdown",
   "id": "fe51b2bc",
   "metadata": {},
   "source": [
    "# Fileupload"
   ]
  },
  {
   "cell_type": "code",
   "execution_count": 4,
   "id": "b5f65ec1",
   "metadata": {},
   "outputs": [
    {
     "name": "stdout",
     "output_type": "stream",
     "text": [
      "Running on PyMC v4.2.2\n"
     ]
    }
   ],
   "source": [
    "import arviz as az\n",
    "import pandas as pd\n",
    "import matplotlib.pyplot as plt\n",
    "import numpy as np\n",
    "import pymc as pm\n",
    "\n",
    "print(f\"Running on PyMC v{pm.__version__}\")"
   ]
  },
  {
   "cell_type": "code",
   "execution_count": 6,
   "id": "74c31bc8",
   "metadata": {},
   "outputs": [],
   "source": [
    "%config InlineBackend.figure_format = 'retina'\n",
    "# Initialize random number generator\n",
    "RANDOM_SEED = 8927\n",
    "rng = np.random.default_rng(RANDOM_SEED)\n",
    "az.style.use(\"arviz-darkgrid\")"
   ]
  },
  {
   "cell_type": "code",
   "execution_count": 7,
   "id": "73ee99b3",
   "metadata": {},
   "outputs": [],
   "source": [
    "# True parameter values\n",
    "alpha, sigma = 1, 1\n",
    "beta = [1, 2.5]\n",
    "\n",
    "# Size of dataset\n",
    "size = 100\n",
    "\n",
    "# Predictor variable\n",
    "X1 = np.random.randn(size)\n",
    "X2 = np.random.randn(size) * 0.2\n",
    "\n",
    "# Simulate outcome variable\n",
    "Y = alpha + beta[0] * X1 + beta[1] * X2 + rng.normal(size=size) * sigma"
   ]
  },
  {
   "cell_type": "code",
   "execution_count": 8,
   "id": "4c1f8f43",
   "metadata": {},
   "outputs": [],
   "source": [
    "basic_model = pm.Model()\n",
    "\n",
    "with basic_model:\n",
    "\n",
    "    # Priors for unknown model parameters\n",
    "    alpha = pm.Normal(\"alpha\", mu=0, sigma=10)\n",
    "    beta = pm.Normal(\"beta\", mu=0, sigma=10, shape=2)\n",
    "    sigma = pm.HalfNormal(\"sigma\", sigma=1)\n",
    "\n",
    "    # Expected value of outcome\n",
    "    mu = alpha + beta[0] * X1 + beta[1] * X2\n",
    "\n",
    "    # Likelihood (sampling distribution) of observations\n",
    "    Y_obs = pm.Normal(\"Y_obs\", mu=mu, sigma=sigma, observed=Y)"
   ]
  },
  {
   "cell_type": "code",
   "execution_count": 9,
   "id": "5e2e468f",
   "metadata": {},
   "outputs": [
    {
     "name": "stderr",
     "output_type": "stream",
     "text": [
      "Auto-assigning NUTS sampler...\n",
      "Initializing NUTS using jitter+adapt_diag...\n",
      "Multiprocess sampling (4 chains in 4 jobs)\n",
      "NUTS: [alpha, beta, sigma]\n"
     ]
    },
    {
     "data": {
      "text/html": [
       "\n",
       "<style>\n",
       "    /* Turns off some styling */\n",
       "    progress {\n",
       "        /* gets rid of default border in Firefox and Opera. */\n",
       "        border: none;\n",
       "        /* Needs to be in here for Safari polyfill so background images work as expected. */\n",
       "        background-size: auto;\n",
       "    }\n",
       "    progress:not([value]), progress:not([value])::-webkit-progress-bar {\n",
       "        background: repeating-linear-gradient(45deg, #7e7e7e, #7e7e7e 10px, #5c5c5c 10px, #5c5c5c 20px);\n",
       "    }\n",
       "    .progress-bar-interrupted, .progress-bar-interrupted::-webkit-progress-bar {\n",
       "        background: #F44336;\n",
       "    }\n",
       "</style>\n"
      ],
      "text/plain": [
       "<IPython.core.display.HTML object>"
      ]
     },
     "metadata": {},
     "output_type": "display_data"
    },
    {
     "data": {
      "text/html": [
       "\n",
       "    <div>\n",
       "      <progress value='8000' class='' max='8000' style='width:300px; height:20px; vertical-align: middle;'></progress>\n",
       "      100.00% [8000/8000 00:02&lt;00:00 Sampling 4 chains, 0 divergences]\n",
       "    </div>\n",
       "    "
      ],
      "text/plain": [
       "<IPython.core.display.HTML object>"
      ]
     },
     "metadata": {},
     "output_type": "display_data"
    },
    {
     "name": "stderr",
     "output_type": "stream",
     "text": [
      "Sampling 4 chains for 1_000 tune and 1_000 draw iterations (4_000 + 4_000 draws total) took 3 seconds.\n"
     ]
    }
   ],
   "source": [
    "with basic_model:\n",
    "    # draw 1000 posterior samples\n",
    "    idata = pm.sample()"
   ]
  },
  {
   "cell_type": "code",
   "execution_count": 10,
   "id": "ef31eb00",
   "metadata": {},
   "outputs": [],
   "source": [
    "data = pd.read_csv(\"./logremoval/testdata.csv\")"
   ]
  },
  {
   "cell_type": "code",
   "execution_count": 13,
   "id": "58f9d050",
   "metadata": {},
   "outputs": [],
   "source": [
    "out = data[\"outflow\"]"
   ]
  },
  {
   "cell_type": "code",
   "execution_count": 18,
   "id": "61764b36",
   "metadata": {},
   "outputs": [],
   "source": [
    "model = pm.Model()"
   ]
  },
  {
   "cell_type": "code",
   "execution_count": 19,
   "id": "22538a88",
   "metadata": {},
   "outputs": [
    {
     "name": "stderr",
     "output_type": "stream",
     "text": [
      "/home/wseis/miniconda3/envs/qmra/lib/python3.10/site-packages/pymc/model.py:1438: ImputationWarning: Data in Y_obs contains missing values and will be automatically imputed from the sampling distribution.\n",
      "  warnings.warn(impute_message, ImputationWarning)\n"
     ]
    }
   ],
   "source": [
    "with model:\n",
    "\n",
    "    # Priors for unknown model parameters\n",
    "    #alpha = pm.Normal(\"alpha\", mu=0, sigma=10)\n",
    "    #mu = pm.Normal(\"beta\", mu=0, sigma=10, shape=2)\n",
    "    #sigma = pm.HalfNormal(\"sigma\", sigma=1)\n",
    "\n",
    "    # Expected value of outcome\n",
    "    #mu = alpha + beta[0] * X1 + beta[1] * X2\n",
    "\n",
    "    # Likelihood (sampling distribution) of observations\n",
    "    Y_obs = pm.NegativeBinomial(\"Y_obs\", mu=mu, alpha=alpha, observed=out)"
   ]
  },
  {
   "cell_type": "code",
   "execution_count": 20,
   "id": "f96facb1",
   "metadata": {},
   "outputs": [
    {
     "ename": "IndexError",
     "evalue": "index 8 is out of bounds for axis 0 with size 2\nApply node that caused the error: AdvancedSubtensor(BroadcastTo.0, TensorConstant{(1,) of 8})\nToposort index: 6\nInputs types: [TensorType(float64, (None,)), TensorType(int64, (1,))]\nInputs shapes: [(2,), (1,)]\nInputs strides: [(8,), (8,)]\nInputs values: [array([0.76782075, 0.70933798]), array([8])]\nOutputs clients: [[Elemwise{true_div,no_inplace}(Elemwise{mul,no_inplace}.0, AdvancedSubtensor.0), Elemwise{sub,no_inplace}(TensorConstant{(1,) of 1.0}, AdvancedSubtensor.0)]]\n\nBacktrace when the node is created (use Aesara flag traceback__limit=N to make it longer):\n  File \"/home/wseis/miniconda3/envs/qmra/lib/python3.10/site-packages/IPython/core/interactiveshell.py\", line 3139, in run_cell_async\n    has_raised = await self.run_ast_nodes(code_ast.body, cell_name,\n  File \"/home/wseis/miniconda3/envs/qmra/lib/python3.10/site-packages/IPython/core/interactiveshell.py\", line 3318, in run_ast_nodes\n    if await self.run_code(code, result, async_=asy):\n  File \"/home/wseis/miniconda3/envs/qmra/lib/python3.10/site-packages/IPython/core/interactiveshell.py\", line 3378, in run_code\n    exec(code_obj, self.user_global_ns, self.user_ns)\n  File \"/tmp/ipykernel_5421/2710319444.py\", line 12, in <module>\n    Y_obs = pm.NegativeBinomial(\"Y_obs\", mu=mu, alpha=alpha, observed=out)\n  File \"/home/wseis/miniconda3/envs/qmra/lib/python3.10/site-packages/pymc/distributions/distribution.py\", line 438, in __new__\n    return super().__new__(cls, name, *args, **kwargs)\n  File \"/home/wseis/miniconda3/envs/qmra/lib/python3.10/site-packages/pymc/distributions/distribution.py\", line 292, in __new__\n    rv_out = model.register_rv(\n  File \"/home/wseis/miniconda3/envs/qmra/lib/python3.10/site-packages/pymc/model.py\", line 1386, in register_rv\n    rv_var = self.make_obs_var(rv_var, data, dims, transform)\n  File \"/home/wseis/miniconda3/envs/qmra/lib/python3.10/site-packages/pymc/model.py\", line 1456, in make_obs_var\n    (missing_rv_var,) = local_subtensor_rv_lift.transform(fgraph, fgraph.outputs[0].owner)\n\nHINT: Use the Aesara flag `exception_verbosity=high` for a debug print-out and storage map footprint of this Apply node.",
     "output_type": "error",
     "traceback": [
      "\u001b[0;31m---------------------------------------------------------------------------\u001b[0m",
      "\u001b[0;31mIndexError\u001b[0m                                Traceback (most recent call last)",
      "File \u001b[0;32m~/miniconda3/envs/qmra/lib/python3.10/site-packages/aesara/link/vm.py:414\u001b[0m, in \u001b[0;36mLoop.__call__\u001b[0;34m(self)\u001b[0m\n\u001b[1;32m    411\u001b[0m \u001b[38;5;28;01mfor\u001b[39;00m thunk, node, old_storage \u001b[38;5;129;01min\u001b[39;00m zip_longest(\n\u001b[1;32m    412\u001b[0m     \u001b[38;5;28mself\u001b[39m\u001b[38;5;241m.\u001b[39mthunks, \u001b[38;5;28mself\u001b[39m\u001b[38;5;241m.\u001b[39mnodes, \u001b[38;5;28mself\u001b[39m\u001b[38;5;241m.\u001b[39mpost_thunk_clear, fillvalue\u001b[38;5;241m=\u001b[39m()\n\u001b[1;32m    413\u001b[0m ):\n\u001b[0;32m--> 414\u001b[0m     \u001b[43mthunk\u001b[49m\u001b[43m(\u001b[49m\u001b[43m)\u001b[49m\n\u001b[1;32m    415\u001b[0m     \u001b[38;5;28;01mfor\u001b[39;00m old_s \u001b[38;5;129;01min\u001b[39;00m old_storage:\n",
      "File \u001b[0;32m~/miniconda3/envs/qmra/lib/python3.10/site-packages/aesara/graph/op.py:543\u001b[0m, in \u001b[0;36mOp.make_py_thunk.<locals>.rval\u001b[0;34m(p, i, o, n, params)\u001b[0m\n\u001b[1;32m    539\u001b[0m \u001b[38;5;129m@is_thunk_type\u001b[39m\n\u001b[1;32m    540\u001b[0m \u001b[38;5;28;01mdef\u001b[39;00m \u001b[38;5;21mrval\u001b[39m(\n\u001b[1;32m    541\u001b[0m     p\u001b[38;5;241m=\u001b[39mp, i\u001b[38;5;241m=\u001b[39mnode_input_storage, o\u001b[38;5;241m=\u001b[39mnode_output_storage, n\u001b[38;5;241m=\u001b[39mnode, params\u001b[38;5;241m=\u001b[39m\u001b[38;5;28;01mNone\u001b[39;00m\n\u001b[1;32m    542\u001b[0m ):\n\u001b[0;32m--> 543\u001b[0m     r \u001b[38;5;241m=\u001b[39m \u001b[43mp\u001b[49m\u001b[43m(\u001b[49m\u001b[43mn\u001b[49m\u001b[43m,\u001b[49m\u001b[43m \u001b[49m\u001b[43m[\u001b[49m\u001b[43mx\u001b[49m\u001b[43m[\u001b[49m\u001b[38;5;241;43m0\u001b[39;49m\u001b[43m]\u001b[49m\u001b[43m \u001b[49m\u001b[38;5;28;43;01mfor\u001b[39;49;00m\u001b[43m \u001b[49m\u001b[43mx\u001b[49m\u001b[43m \u001b[49m\u001b[38;5;129;43;01min\u001b[39;49;00m\u001b[43m \u001b[49m\u001b[43mi\u001b[49m\u001b[43m]\u001b[49m\u001b[43m,\u001b[49m\u001b[43m \u001b[49m\u001b[43mo\u001b[49m\u001b[43m)\u001b[49m\n\u001b[1;32m    544\u001b[0m     \u001b[38;5;28;01mfor\u001b[39;00m o \u001b[38;5;129;01min\u001b[39;00m node\u001b[38;5;241m.\u001b[39moutputs:\n",
      "File \u001b[0;32m~/miniconda3/envs/qmra/lib/python3.10/site-packages/aesara/tensor/subtensor.py:2615\u001b[0m, in \u001b[0;36mAdvancedSubtensor.perform\u001b[0;34m(self, node, inputs, out_)\u001b[0m\n\u001b[1;32m   2614\u001b[0m check_advanced_indexing_dimensions(inputs[\u001b[38;5;241m0\u001b[39m], inputs[\u001b[38;5;241m1\u001b[39m:])\n\u001b[0;32m-> 2615\u001b[0m rval \u001b[38;5;241m=\u001b[39m \u001b[43minputs\u001b[49m\u001b[43m[\u001b[49m\u001b[38;5;241;43m0\u001b[39;49m\u001b[43m]\u001b[49m\u001b[38;5;241;43m.\u001b[39;49m\u001b[38;5;21;43m__getitem__\u001b[39;49m\u001b[43m(\u001b[49m\u001b[38;5;28;43mtuple\u001b[39;49m\u001b[43m(\u001b[49m\u001b[43minputs\u001b[49m\u001b[43m[\u001b[49m\u001b[38;5;241;43m1\u001b[39;49m\u001b[43m:\u001b[49m\u001b[43m]\u001b[49m\u001b[43m)\u001b[49m\u001b[43m)\u001b[49m\n\u001b[1;32m   2616\u001b[0m \u001b[38;5;66;03m# When there are no arrays, we are not actually doing advanced\u001b[39;00m\n\u001b[1;32m   2617\u001b[0m \u001b[38;5;66;03m# indexing, so __getitem__ will not return a copy.\u001b[39;00m\n\u001b[1;32m   2618\u001b[0m \u001b[38;5;66;03m# Since no view_map is set, we need to copy the returned value\u001b[39;00m\n",
      "\u001b[0;31mIndexError\u001b[0m: index 8 is out of bounds for axis 0 with size 2",
      "\nDuring handling of the above exception, another exception occurred:\n",
      "\u001b[0;31mIndexError\u001b[0m                                Traceback (most recent call last)",
      "Cell \u001b[0;32mIn [20], line 3\u001b[0m\n\u001b[1;32m      1\u001b[0m \u001b[38;5;28;01mwith\u001b[39;00m model:\n\u001b[1;32m      2\u001b[0m     \u001b[38;5;66;03m# draw 1000 posterior samples\u001b[39;00m\n\u001b[0;32m----> 3\u001b[0m     idata \u001b[38;5;241m=\u001b[39m \u001b[43mpm\u001b[49m\u001b[38;5;241;43m.\u001b[39;49m\u001b[43msample\u001b[49m\u001b[43m(\u001b[49m\u001b[43m)\u001b[49m\n",
      "File \u001b[0;32m~/miniconda3/envs/qmra/lib/python3.10/site-packages/pymc/sampling.py:527\u001b[0m, in \u001b[0;36msample\u001b[0;34m(draws, step, init, n_init, initvals, trace, chains, cores, tune, progressbar, model, random_seed, discard_tuned_samples, compute_convergence_checks, callback, jitter_max_retries, return_inferencedata, idata_kwargs, mp_ctx, **kwargs)\u001b[0m\n\u001b[1;32m    524\u001b[0m         auto_nuts_init \u001b[38;5;241m=\u001b[39m \u001b[38;5;28;01mFalse\u001b[39;00m\n\u001b[1;32m    526\u001b[0m initial_points \u001b[38;5;241m=\u001b[39m \u001b[38;5;28;01mNone\u001b[39;00m\n\u001b[0;32m--> 527\u001b[0m step \u001b[38;5;241m=\u001b[39m \u001b[43massign_step_methods\u001b[49m\u001b[43m(\u001b[49m\u001b[43mmodel\u001b[49m\u001b[43m,\u001b[49m\u001b[43m \u001b[49m\u001b[43mstep\u001b[49m\u001b[43m,\u001b[49m\u001b[43m \u001b[49m\u001b[43mmethods\u001b[49m\u001b[38;5;241;43m=\u001b[39;49m\u001b[43mpm\u001b[49m\u001b[38;5;241;43m.\u001b[39;49m\u001b[43mSTEP_METHODS\u001b[49m\u001b[43m,\u001b[49m\u001b[43m \u001b[49m\u001b[43mstep_kwargs\u001b[49m\u001b[38;5;241;43m=\u001b[39;49m\u001b[43mkwargs\u001b[49m\u001b[43m)\u001b[49m\n\u001b[1;32m    529\u001b[0m \u001b[38;5;28;01mif\u001b[39;00m \u001b[38;5;28misinstance\u001b[39m(step, \u001b[38;5;28mlist\u001b[39m):\n\u001b[1;32m    530\u001b[0m     step \u001b[38;5;241m=\u001b[39m CompoundStep(step)\n",
      "File \u001b[0;32m~/miniconda3/envs/qmra/lib/python3.10/site-packages/pymc/sampling.py:229\u001b[0m, in \u001b[0;36massign_step_methods\u001b[0;34m(model, step, methods, step_kwargs)\u001b[0m\n\u001b[1;32m    221\u001b[0m         selected \u001b[38;5;241m=\u001b[39m \u001b[38;5;28mmax\u001b[39m(\n\u001b[1;32m    222\u001b[0m             methods,\n\u001b[1;32m    223\u001b[0m             key\u001b[38;5;241m=\u001b[39m\u001b[38;5;28;01mlambda\u001b[39;00m method, var\u001b[38;5;241m=\u001b[39mrv_var, has_gradient\u001b[38;5;241m=\u001b[39mhas_gradient: method\u001b[38;5;241m.\u001b[39m_competence(\n\u001b[1;32m    224\u001b[0m                 var, has_gradient\n\u001b[1;32m    225\u001b[0m             ),\n\u001b[1;32m    226\u001b[0m         )\n\u001b[1;32m    227\u001b[0m         selected_steps[selected]\u001b[38;5;241m.\u001b[39mappend(var)\n\u001b[0;32m--> 229\u001b[0m \u001b[38;5;28;01mreturn\u001b[39;00m \u001b[43minstantiate_steppers\u001b[49m\u001b[43m(\u001b[49m\u001b[43mmodel\u001b[49m\u001b[43m,\u001b[49m\u001b[43m \u001b[49m\u001b[43msteps\u001b[49m\u001b[43m,\u001b[49m\u001b[43m \u001b[49m\u001b[43mselected_steps\u001b[49m\u001b[43m,\u001b[49m\u001b[43m \u001b[49m\u001b[43mstep_kwargs\u001b[49m\u001b[43m)\u001b[49m\n",
      "File \u001b[0;32m~/miniconda3/envs/qmra/lib/python3.10/site-packages/pymc/sampling.py:147\u001b[0m, in \u001b[0;36minstantiate_steppers\u001b[0;34m(model, steps, selected_steps, step_kwargs)\u001b[0m\n\u001b[1;32m    145\u001b[0m         args \u001b[38;5;241m=\u001b[39m step_kwargs\u001b[38;5;241m.\u001b[39mget(step_class\u001b[38;5;241m.\u001b[39mname, {})\n\u001b[1;32m    146\u001b[0m         used_keys\u001b[38;5;241m.\u001b[39madd(step_class\u001b[38;5;241m.\u001b[39mname)\n\u001b[0;32m--> 147\u001b[0m         step \u001b[38;5;241m=\u001b[39m \u001b[43mstep_class\u001b[49m\u001b[43m(\u001b[49m\u001b[38;5;28;43mvars\u001b[39;49m\u001b[38;5;241;43m=\u001b[39;49m\u001b[38;5;28;43mvars\u001b[39;49m\u001b[43m,\u001b[49m\u001b[43m \u001b[49m\u001b[43mmodel\u001b[49m\u001b[38;5;241;43m=\u001b[39;49m\u001b[43mmodel\u001b[49m\u001b[43m,\u001b[49m\u001b[43m \u001b[49m\u001b[38;5;241;43m*\u001b[39;49m\u001b[38;5;241;43m*\u001b[39;49m\u001b[43margs\u001b[49m\u001b[43m)\u001b[49m\n\u001b[1;32m    148\u001b[0m         steps\u001b[38;5;241m.\u001b[39mappend(step)\n\u001b[1;32m    150\u001b[0m unused_args \u001b[38;5;241m=\u001b[39m \u001b[38;5;28mset\u001b[39m(step_kwargs)\u001b[38;5;241m.\u001b[39mdifference(used_keys)\n",
      "File \u001b[0;32m~/miniconda3/envs/qmra/lib/python3.10/site-packages/pymc/step_methods/metropolis.py:172\u001b[0m, in \u001b[0;36mMetropolis.__init__\u001b[0;34m(self, vars, S, proposal_dist, scaling, tune, tune_interval, model, mode, **kwargs)\u001b[0m\n\u001b[1;32m    148\u001b[0m \u001b[38;5;124;03m\"\"\"Create an instance of a Metropolis stepper\u001b[39;00m\n\u001b[1;32m    149\u001b[0m \n\u001b[1;32m    150\u001b[0m \u001b[38;5;124;03mParameters\u001b[39;00m\n\u001b[0;32m   (...)\u001b[0m\n\u001b[1;32m    168\u001b[0m \u001b[38;5;124;03m    compilation mode passed to Aesara functions\u001b[39;00m\n\u001b[1;32m    169\u001b[0m \u001b[38;5;124;03m\"\"\"\u001b[39;00m\n\u001b[1;32m    171\u001b[0m model \u001b[38;5;241m=\u001b[39m pm\u001b[38;5;241m.\u001b[39mmodelcontext(model)\n\u001b[0;32m--> 172\u001b[0m initial_values \u001b[38;5;241m=\u001b[39m \u001b[43mmodel\u001b[49m\u001b[38;5;241;43m.\u001b[39;49m\u001b[43minitial_point\u001b[49m\u001b[43m(\u001b[49m\u001b[43m)\u001b[49m\n\u001b[1;32m    174\u001b[0m \u001b[38;5;28;01mif\u001b[39;00m \u001b[38;5;28mvars\u001b[39m \u001b[38;5;129;01mis\u001b[39;00m \u001b[38;5;28;01mNone\u001b[39;00m:\n\u001b[1;32m    175\u001b[0m     \u001b[38;5;28mvars\u001b[39m \u001b[38;5;241m=\u001b[39m model\u001b[38;5;241m.\u001b[39mvalue_vars\n",
      "File \u001b[0;32m~/miniconda3/envs/qmra/lib/python3.10/site-packages/pymc/model.py:1069\u001b[0m, in \u001b[0;36mModel.initial_point\u001b[0;34m(self, seed)\u001b[0m\n\u001b[1;32m   1061\u001b[0m \u001b[38;5;124;03m\"\"\"Computes the initial point of the model.\u001b[39;00m\n\u001b[1;32m   1062\u001b[0m \n\u001b[1;32m   1063\u001b[0m \u001b[38;5;124;03mReturns\u001b[39;00m\n\u001b[0;32m   (...)\u001b[0m\n\u001b[1;32m   1066\u001b[0m \u001b[38;5;124;03m    Maps names of transformed variables to numeric initial values in the transformed space.\u001b[39;00m\n\u001b[1;32m   1067\u001b[0m \u001b[38;5;124;03m\"\"\"\u001b[39;00m\n\u001b[1;32m   1068\u001b[0m fn \u001b[38;5;241m=\u001b[39m make_initial_point_fn(model\u001b[38;5;241m=\u001b[39m\u001b[38;5;28mself\u001b[39m, return_transformed\u001b[38;5;241m=\u001b[39m\u001b[38;5;28;01mTrue\u001b[39;00m)\n\u001b[0;32m-> 1069\u001b[0m \u001b[38;5;28;01mreturn\u001b[39;00m Point(\u001b[43mfn\u001b[49m\u001b[43m(\u001b[49m\u001b[43mseed\u001b[49m\u001b[43m)\u001b[49m, model\u001b[38;5;241m=\u001b[39m\u001b[38;5;28mself\u001b[39m)\n",
      "File \u001b[0;32m~/miniconda3/envs/qmra/lib/python3.10/site-packages/pymc/initial_point.py:189\u001b[0m, in \u001b[0;36mmake_initial_point_fn.<locals>.make_seeded_function.<locals>.inner\u001b[0;34m(seed, *args, **kwargs)\u001b[0m\n\u001b[1;32m    186\u001b[0m \u001b[38;5;129m@functools\u001b[39m\u001b[38;5;241m.\u001b[39mwraps(func)\n\u001b[1;32m    187\u001b[0m \u001b[38;5;28;01mdef\u001b[39;00m \u001b[38;5;21minner\u001b[39m(seed, \u001b[38;5;241m*\u001b[39margs, \u001b[38;5;241m*\u001b[39m\u001b[38;5;241m*\u001b[39mkwargs):\n\u001b[1;32m    188\u001b[0m     reseed_rngs(rngs, seed)\n\u001b[0;32m--> 189\u001b[0m     values \u001b[38;5;241m=\u001b[39m \u001b[43mfunc\u001b[49m\u001b[43m(\u001b[49m\u001b[38;5;241;43m*\u001b[39;49m\u001b[43margs\u001b[49m\u001b[43m,\u001b[49m\u001b[43m \u001b[49m\u001b[38;5;241;43m*\u001b[39;49m\u001b[38;5;241;43m*\u001b[39;49m\u001b[43mkwargs\u001b[49m\u001b[43m)\u001b[49m\n\u001b[1;32m    190\u001b[0m     \u001b[38;5;28;01mreturn\u001b[39;00m \u001b[38;5;28mdict\u001b[39m(\u001b[38;5;28mzip\u001b[39m(varnames, values))\n",
      "File \u001b[0;32m~/miniconda3/envs/qmra/lib/python3.10/site-packages/aesara/compile/function/types.py:971\u001b[0m, in \u001b[0;36mFunction.__call__\u001b[0;34m(self, *args, **kwargs)\u001b[0m\n\u001b[1;32m    968\u001b[0m t0_fn \u001b[38;5;241m=\u001b[39m time\u001b[38;5;241m.\u001b[39mtime()\n\u001b[1;32m    969\u001b[0m \u001b[38;5;28;01mtry\u001b[39;00m:\n\u001b[1;32m    970\u001b[0m     outputs \u001b[38;5;241m=\u001b[39m (\n\u001b[0;32m--> 971\u001b[0m         \u001b[38;5;28;43mself\u001b[39;49m\u001b[38;5;241;43m.\u001b[39;49m\u001b[43mvm\u001b[49m\u001b[43m(\u001b[49m\u001b[43m)\u001b[49m\n\u001b[1;32m    972\u001b[0m         \u001b[38;5;28;01mif\u001b[39;00m output_subset \u001b[38;5;129;01mis\u001b[39;00m \u001b[38;5;28;01mNone\u001b[39;00m\n\u001b[1;32m    973\u001b[0m         \u001b[38;5;28;01melse\u001b[39;00m \u001b[38;5;28mself\u001b[39m\u001b[38;5;241m.\u001b[39mvm(output_subset\u001b[38;5;241m=\u001b[39moutput_subset)\n\u001b[1;32m    974\u001b[0m     )\n\u001b[1;32m    975\u001b[0m \u001b[38;5;28;01mexcept\u001b[39;00m \u001b[38;5;167;01mException\u001b[39;00m:\n\u001b[1;32m    976\u001b[0m     restore_defaults()\n",
      "File \u001b[0;32m~/miniconda3/envs/qmra/lib/python3.10/site-packages/aesara/link/vm.py:418\u001b[0m, in \u001b[0;36mLoop.__call__\u001b[0;34m(self)\u001b[0m\n\u001b[1;32m    416\u001b[0m                 old_s[\u001b[38;5;241m0\u001b[39m] \u001b[38;5;241m=\u001b[39m \u001b[38;5;28;01mNone\u001b[39;00m\n\u001b[1;32m    417\u001b[0m     \u001b[38;5;28;01mexcept\u001b[39;00m \u001b[38;5;167;01mException\u001b[39;00m:\n\u001b[0;32m--> 418\u001b[0m         \u001b[43mraise_with_op\u001b[49m\u001b[43m(\u001b[49m\u001b[38;5;28;43mself\u001b[39;49m\u001b[38;5;241;43m.\u001b[39;49m\u001b[43mfgraph\u001b[49m\u001b[43m,\u001b[49m\u001b[43m \u001b[49m\u001b[43mnode\u001b[49m\u001b[43m,\u001b[49m\u001b[43m \u001b[49m\u001b[43mthunk\u001b[49m\u001b[43m)\u001b[49m\n\u001b[1;32m    420\u001b[0m \u001b[38;5;28;01mreturn\u001b[39;00m \u001b[38;5;28mself\u001b[39m\u001b[38;5;241m.\u001b[39mperform_updates()\n",
      "File \u001b[0;32m~/miniconda3/envs/qmra/lib/python3.10/site-packages/aesara/link/utils.py:534\u001b[0m, in \u001b[0;36mraise_with_op\u001b[0;34m(fgraph, node, thunk, exc_info, storage_map)\u001b[0m\n\u001b[1;32m    529\u001b[0m     warnings\u001b[38;5;241m.\u001b[39mwarn(\n\u001b[1;32m    530\u001b[0m         \u001b[38;5;124mf\u001b[39m\u001b[38;5;124m\"\u001b[39m\u001b[38;5;132;01m{\u001b[39;00mexc_type\u001b[38;5;132;01m}\u001b[39;00m\u001b[38;5;124m error does not allow us to add an extra error message\u001b[39m\u001b[38;5;124m\"\u001b[39m\n\u001b[1;32m    531\u001b[0m     )\n\u001b[1;32m    532\u001b[0m     \u001b[38;5;66;03m# Some exception need extra parameter in inputs. So forget the\u001b[39;00m\n\u001b[1;32m    533\u001b[0m     \u001b[38;5;66;03m# extra long error message in that case.\u001b[39;00m\n\u001b[0;32m--> 534\u001b[0m \u001b[38;5;28;01mraise\u001b[39;00m exc_value\u001b[38;5;241m.\u001b[39mwith_traceback(exc_trace)\n",
      "File \u001b[0;32m~/miniconda3/envs/qmra/lib/python3.10/site-packages/aesara/link/vm.py:414\u001b[0m, in \u001b[0;36mLoop.__call__\u001b[0;34m(self)\u001b[0m\n\u001b[1;32m    410\u001b[0m \u001b[38;5;28;01mtry\u001b[39;00m:\n\u001b[1;32m    411\u001b[0m     \u001b[38;5;28;01mfor\u001b[39;00m thunk, node, old_storage \u001b[38;5;129;01min\u001b[39;00m zip_longest(\n\u001b[1;32m    412\u001b[0m         \u001b[38;5;28mself\u001b[39m\u001b[38;5;241m.\u001b[39mthunks, \u001b[38;5;28mself\u001b[39m\u001b[38;5;241m.\u001b[39mnodes, \u001b[38;5;28mself\u001b[39m\u001b[38;5;241m.\u001b[39mpost_thunk_clear, fillvalue\u001b[38;5;241m=\u001b[39m()\n\u001b[1;32m    413\u001b[0m     ):\n\u001b[0;32m--> 414\u001b[0m         \u001b[43mthunk\u001b[49m\u001b[43m(\u001b[49m\u001b[43m)\u001b[49m\n\u001b[1;32m    415\u001b[0m         \u001b[38;5;28;01mfor\u001b[39;00m old_s \u001b[38;5;129;01min\u001b[39;00m old_storage:\n\u001b[1;32m    416\u001b[0m             old_s[\u001b[38;5;241m0\u001b[39m] \u001b[38;5;241m=\u001b[39m \u001b[38;5;28;01mNone\u001b[39;00m\n",
      "File \u001b[0;32m~/miniconda3/envs/qmra/lib/python3.10/site-packages/aesara/graph/op.py:543\u001b[0m, in \u001b[0;36mOp.make_py_thunk.<locals>.rval\u001b[0;34m(p, i, o, n, params)\u001b[0m\n\u001b[1;32m    539\u001b[0m \u001b[38;5;129m@is_thunk_type\u001b[39m\n\u001b[1;32m    540\u001b[0m \u001b[38;5;28;01mdef\u001b[39;00m \u001b[38;5;21mrval\u001b[39m(\n\u001b[1;32m    541\u001b[0m     p\u001b[38;5;241m=\u001b[39mp, i\u001b[38;5;241m=\u001b[39mnode_input_storage, o\u001b[38;5;241m=\u001b[39mnode_output_storage, n\u001b[38;5;241m=\u001b[39mnode, params\u001b[38;5;241m=\u001b[39m\u001b[38;5;28;01mNone\u001b[39;00m\n\u001b[1;32m    542\u001b[0m ):\n\u001b[0;32m--> 543\u001b[0m     r \u001b[38;5;241m=\u001b[39m \u001b[43mp\u001b[49m\u001b[43m(\u001b[49m\u001b[43mn\u001b[49m\u001b[43m,\u001b[49m\u001b[43m \u001b[49m\u001b[43m[\u001b[49m\u001b[43mx\u001b[49m\u001b[43m[\u001b[49m\u001b[38;5;241;43m0\u001b[39;49m\u001b[43m]\u001b[49m\u001b[43m \u001b[49m\u001b[38;5;28;43;01mfor\u001b[39;49;00m\u001b[43m \u001b[49m\u001b[43mx\u001b[49m\u001b[43m \u001b[49m\u001b[38;5;129;43;01min\u001b[39;49;00m\u001b[43m \u001b[49m\u001b[43mi\u001b[49m\u001b[43m]\u001b[49m\u001b[43m,\u001b[49m\u001b[43m \u001b[49m\u001b[43mo\u001b[49m\u001b[43m)\u001b[49m\n\u001b[1;32m    544\u001b[0m     \u001b[38;5;28;01mfor\u001b[39;00m o \u001b[38;5;129;01min\u001b[39;00m node\u001b[38;5;241m.\u001b[39moutputs:\n\u001b[1;32m    545\u001b[0m         compute_map[o][\u001b[38;5;241m0\u001b[39m] \u001b[38;5;241m=\u001b[39m \u001b[38;5;28;01mTrue\u001b[39;00m\n",
      "File \u001b[0;32m~/miniconda3/envs/qmra/lib/python3.10/site-packages/aesara/tensor/subtensor.py:2615\u001b[0m, in \u001b[0;36mAdvancedSubtensor.perform\u001b[0;34m(self, node, inputs, out_)\u001b[0m\n\u001b[1;32m   2613\u001b[0m (out,) \u001b[38;5;241m=\u001b[39m out_\n\u001b[1;32m   2614\u001b[0m check_advanced_indexing_dimensions(inputs[\u001b[38;5;241m0\u001b[39m], inputs[\u001b[38;5;241m1\u001b[39m:])\n\u001b[0;32m-> 2615\u001b[0m rval \u001b[38;5;241m=\u001b[39m \u001b[43minputs\u001b[49m\u001b[43m[\u001b[49m\u001b[38;5;241;43m0\u001b[39;49m\u001b[43m]\u001b[49m\u001b[38;5;241;43m.\u001b[39;49m\u001b[38;5;21;43m__getitem__\u001b[39;49m\u001b[43m(\u001b[49m\u001b[38;5;28;43mtuple\u001b[39;49m\u001b[43m(\u001b[49m\u001b[43minputs\u001b[49m\u001b[43m[\u001b[49m\u001b[38;5;241;43m1\u001b[39;49m\u001b[43m:\u001b[49m\u001b[43m]\u001b[49m\u001b[43m)\u001b[49m\u001b[43m)\u001b[49m\n\u001b[1;32m   2616\u001b[0m \u001b[38;5;66;03m# When there are no arrays, we are not actually doing advanced\u001b[39;00m\n\u001b[1;32m   2617\u001b[0m \u001b[38;5;66;03m# indexing, so __getitem__ will not return a copy.\u001b[39;00m\n\u001b[1;32m   2618\u001b[0m \u001b[38;5;66;03m# Since no view_map is set, we need to copy the returned value\u001b[39;00m\n\u001b[1;32m   2619\u001b[0m \u001b[38;5;28;01mif\u001b[39;00m \u001b[38;5;129;01mnot\u001b[39;00m \u001b[38;5;28many\u001b[39m(\n\u001b[1;32m   2620\u001b[0m     \u001b[38;5;28misinstance\u001b[39m(v\u001b[38;5;241m.\u001b[39mtype, TensorType) \u001b[38;5;129;01mand\u001b[39;00m v\u001b[38;5;241m.\u001b[39mndim \u001b[38;5;241m>\u001b[39m \u001b[38;5;241m0\u001b[39m \u001b[38;5;28;01mfor\u001b[39;00m v \u001b[38;5;129;01min\u001b[39;00m node\u001b[38;5;241m.\u001b[39minputs[\u001b[38;5;241m1\u001b[39m:]\n\u001b[1;32m   2621\u001b[0m ):\n",
      "\u001b[0;31mIndexError\u001b[0m: index 8 is out of bounds for axis 0 with size 2\nApply node that caused the error: AdvancedSubtensor(BroadcastTo.0, TensorConstant{(1,) of 8})\nToposort index: 6\nInputs types: [TensorType(float64, (None,)), TensorType(int64, (1,))]\nInputs shapes: [(2,), (1,)]\nInputs strides: [(8,), (8,)]\nInputs values: [array([0.76782075, 0.70933798]), array([8])]\nOutputs clients: [[Elemwise{true_div,no_inplace}(Elemwise{mul,no_inplace}.0, AdvancedSubtensor.0), Elemwise{sub,no_inplace}(TensorConstant{(1,) of 1.0}, AdvancedSubtensor.0)]]\n\nBacktrace when the node is created (use Aesara flag traceback__limit=N to make it longer):\n  File \"/home/wseis/miniconda3/envs/qmra/lib/python3.10/site-packages/IPython/core/interactiveshell.py\", line 3139, in run_cell_async\n    has_raised = await self.run_ast_nodes(code_ast.body, cell_name,\n  File \"/home/wseis/miniconda3/envs/qmra/lib/python3.10/site-packages/IPython/core/interactiveshell.py\", line 3318, in run_ast_nodes\n    if await self.run_code(code, result, async_=asy):\n  File \"/home/wseis/miniconda3/envs/qmra/lib/python3.10/site-packages/IPython/core/interactiveshell.py\", line 3378, in run_code\n    exec(code_obj, self.user_global_ns, self.user_ns)\n  File \"/tmp/ipykernel_5421/2710319444.py\", line 12, in <module>\n    Y_obs = pm.NegativeBinomial(\"Y_obs\", mu=mu, alpha=alpha, observed=out)\n  File \"/home/wseis/miniconda3/envs/qmra/lib/python3.10/site-packages/pymc/distributions/distribution.py\", line 438, in __new__\n    return super().__new__(cls, name, *args, **kwargs)\n  File \"/home/wseis/miniconda3/envs/qmra/lib/python3.10/site-packages/pymc/distributions/distribution.py\", line 292, in __new__\n    rv_out = model.register_rv(\n  File \"/home/wseis/miniconda3/envs/qmra/lib/python3.10/site-packages/pymc/model.py\", line 1386, in register_rv\n    rv_var = self.make_obs_var(rv_var, data, dims, transform)\n  File \"/home/wseis/miniconda3/envs/qmra/lib/python3.10/site-packages/pymc/model.py\", line 1456, in make_obs_var\n    (missing_rv_var,) = local_subtensor_rv_lift.transform(fgraph, fgraph.outputs[0].owner)\n\nHINT: Use the Aesara flag `exception_verbosity=high` for a debug print-out and storage map footprint of this Apply node."
     ]
    }
   ],
   "source": [
    "with model:\n",
    "    # draw 1000 posterior samples\n",
    "    idata = pm.sample()"
   ]
  },
  {
   "cell_type": "code",
   "execution_count": null,
   "id": "5afb424a",
   "metadata": {},
   "outputs": [],
   "source": []
  }
 ],
 "metadata": {
  "kernelspec": {
   "display_name": "Django Shell-Plus",
   "language": "python",
   "name": "django_extensions"
  },
  "language_info": {
   "codemirror_mode": {
    "name": "ipython",
    "version": 3
   },
   "file_extension": ".py",
   "mimetype": "text/x-python",
   "name": "python",
   "nbconvert_exporter": "python",
   "pygments_lexer": "ipython3",
   "version": "3.10.6"
  }
 },
 "nbformat": 4,
 "nbformat_minor": 5
}
