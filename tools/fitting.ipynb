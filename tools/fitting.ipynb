{
 "cells": [
  {
   "cell_type": "markdown",
   "id": "fe51b2bc",
   "metadata": {},
   "source": [
    "# Fileupload"
   ]
  },
  {
   "cell_type": "code",
   "execution_count": 6,
   "id": "b5f65ec1",
   "metadata": {},
   "outputs": [],
   "source": [
    "import pandas as pd\n",
    "import os\n",
    "import numpy as np\n",
    "import statsmodels.api as sm\n",
    "import scipy\n",
    "import plotly.express as px"
   ]
  },
  {
   "cell_type": "code",
   "execution_count": 7,
   "id": "4c1f8f43",
   "metadata": {},
   "outputs": [
    {
     "data": {
      "text/plain": [
       "'/home/wseis/qmra/tools'"
      ]
     },
     "execution_count": 7,
     "metadata": {},
     "output_type": "execute_result"
    }
   ],
   "source": [
    " os.getcwd()"
   ]
  },
  {
   "cell_type": "code",
   "execution_count": 8,
   "id": "ef31eb00",
   "metadata": {},
   "outputs": [],
   "source": [
    "data = pd.read_csv(\"./logremoval/testdata.csv\")"
   ]
  },
  {
   "cell_type": "code",
   "execution_count": 9,
   "id": "ca7d4f63",
   "metadata": {},
   "outputs": [
    {
     "data": {
      "text/html": [
       "<div>\n",
       "<style scoped>\n",
       "    .dataframe tbody tr th:only-of-type {\n",
       "        vertical-align: middle;\n",
       "    }\n",
       "\n",
       "    .dataframe tbody tr th {\n",
       "        vertical-align: top;\n",
       "    }\n",
       "\n",
       "    .dataframe thead th {\n",
       "        text-align: right;\n",
       "    }\n",
       "</style>\n",
       "<table border=\"1\" class=\"dataframe\">\n",
       "  <thead>\n",
       "    <tr style=\"text-align: right;\">\n",
       "      <th></th>\n",
       "      <th>date</th>\n",
       "      <th>inflow</th>\n",
       "      <th>censored_in</th>\n",
       "      <th>outflow</th>\n",
       "      <th>censored_out</th>\n",
       "    </tr>\n",
       "  </thead>\n",
       "  <tbody>\n",
       "    <tr>\n",
       "      <th>0</th>\n",
       "      <td>01.01.2022</td>\n",
       "      <td>345678.0</td>\n",
       "      <td>NaN</td>\n",
       "      <td>3.0</td>\n",
       "      <td>NaN</td>\n",
       "    </tr>\n",
       "    <tr>\n",
       "      <th>1</th>\n",
       "      <td>02.01.2022</td>\n",
       "      <td>89905.0</td>\n",
       "      <td>NaN</td>\n",
       "      <td>4.0</td>\n",
       "      <td>NaN</td>\n",
       "    </tr>\n",
       "    <tr>\n",
       "      <th>2</th>\n",
       "      <td>03.01.2022</td>\n",
       "      <td>567878.0</td>\n",
       "      <td>NaN</td>\n",
       "      <td>5.0</td>\n",
       "      <td>NaN</td>\n",
       "    </tr>\n",
       "    <tr>\n",
       "      <th>3</th>\n",
       "      <td>04.01.2022</td>\n",
       "      <td>56789.0</td>\n",
       "      <td>NaN</td>\n",
       "      <td>6.0</td>\n",
       "      <td>NaN</td>\n",
       "    </tr>\n",
       "    <tr>\n",
       "      <th>4</th>\n",
       "      <td>05.01.2022</td>\n",
       "      <td>52535.0</td>\n",
       "      <td>NaN</td>\n",
       "      <td>7.0</td>\n",
       "      <td>NaN</td>\n",
       "    </tr>\n",
       "    <tr>\n",
       "      <th>5</th>\n",
       "      <td>06.01.2022</td>\n",
       "      <td>8765.0</td>\n",
       "      <td>NaN</td>\n",
       "      <td>8.0</td>\n",
       "      <td>NaN</td>\n",
       "    </tr>\n",
       "    <tr>\n",
       "      <th>6</th>\n",
       "      <td>07.01.2022</td>\n",
       "      <td>NaN</td>\n",
       "      <td>NaN</td>\n",
       "      <td>90.0</td>\n",
       "      <td>NaN</td>\n",
       "    </tr>\n",
       "    <tr>\n",
       "      <th>7</th>\n",
       "      <td>08.01.2022</td>\n",
       "      <td>2345678.0</td>\n",
       "      <td>NaN</td>\n",
       "      <td>54.0</td>\n",
       "      <td>NaN</td>\n",
       "    </tr>\n",
       "    <tr>\n",
       "      <th>8</th>\n",
       "      <td>09.01.2022</td>\n",
       "      <td>987654.0</td>\n",
       "      <td>NaN</td>\n",
       "      <td>NaN</td>\n",
       "      <td>NaN</td>\n",
       "    </tr>\n",
       "    <tr>\n",
       "      <th>9</th>\n",
       "      <td>10.01.2022</td>\n",
       "      <td>54322.0</td>\n",
       "      <td>NaN</td>\n",
       "      <td>23.0</td>\n",
       "      <td>NaN</td>\n",
       "    </tr>\n",
       "    <tr>\n",
       "      <th>10</th>\n",
       "      <td>11.01.2022</td>\n",
       "      <td>9865.0</td>\n",
       "      <td>NaN</td>\n",
       "      <td>43.0</td>\n",
       "      <td>NaN</td>\n",
       "    </tr>\n",
       "    <tr>\n",
       "      <th>11</th>\n",
       "      <td>12.01.2022</td>\n",
       "      <td>5432.0</td>\n",
       "      <td>NaN</td>\n",
       "      <td>543.0</td>\n",
       "      <td>NaN</td>\n",
       "    </tr>\n",
       "    <tr>\n",
       "      <th>12</th>\n",
       "      <td>13.01.2022</td>\n",
       "      <td>987654.0</td>\n",
       "      <td>NaN</td>\n",
       "      <td>3.0</td>\n",
       "      <td>NaN</td>\n",
       "    </tr>\n",
       "  </tbody>\n",
       "</table>\n",
       "</div>"
      ],
      "text/plain": [
       "          date     inflow  censored_in  outflow  censored_out\n",
       "0   01.01.2022   345678.0          NaN      3.0           NaN\n",
       "1   02.01.2022    89905.0          NaN      4.0           NaN\n",
       "2   03.01.2022   567878.0          NaN      5.0           NaN\n",
       "3   04.01.2022    56789.0          NaN      6.0           NaN\n",
       "4   05.01.2022    52535.0          NaN      7.0           NaN\n",
       "5   06.01.2022     8765.0          NaN      8.0           NaN\n",
       "6   07.01.2022        NaN          NaN     90.0           NaN\n",
       "7   08.01.2022  2345678.0          NaN     54.0           NaN\n",
       "8   09.01.2022   987654.0          NaN      NaN           NaN\n",
       "9   10.01.2022    54322.0          NaN     23.0           NaN\n",
       "10  11.01.2022     9865.0          NaN     43.0           NaN\n",
       "11  12.01.2022     5432.0          NaN    543.0           NaN\n",
       "12  13.01.2022   987654.0          NaN      3.0           NaN"
      ]
     },
     "execution_count": 9,
     "metadata": {},
     "output_type": "execute_result"
    }
   ],
   "source": [
    "data"
   ]
  },
  {
   "cell_type": "code",
   "execution_count": 10,
   "id": "58f9d050",
   "metadata": {},
   "outputs": [],
   "source": [
    "data = data[[\"inflow\", \"outflow\"]].dropna()"
   ]
  },
  {
   "cell_type": "code",
   "execution_count": 11,
   "id": "da7099e3",
   "metadata": {},
   "outputs": [
    {
     "ename": "NameError",
     "evalue": "name 'n_paired' is not defined",
     "output_type": "error",
     "traceback": [
      "\u001b[0;31m---------------------------------------------------------------------------\u001b[0m",
      "\u001b[0;31mNameError\u001b[0m                                 Traceback (most recent call last)",
      "Cell \u001b[0;32mIn [11], line 1\u001b[0m\n\u001b[0;32m----> 1\u001b[0m \u001b[43mn_paired\u001b[49m\n",
      "\u001b[0;31mNameError\u001b[0m: name 'n_paired' is not defined"
     ]
    }
   ],
   "source": []
  },
  {
   "cell_type": "code",
   "execution_count": 13,
   "id": "c3483d95",
   "metadata": {},
   "outputs": [
    {
     "data": {
      "text/plain": [
       "11"
      ]
     },
     "execution_count": 13,
     "metadata": {},
     "output_type": "execute_result"
    }
   ],
   "source": [
    "data.count()[\"inflow\"]"
   ]
  },
  {
   "cell_type": "code",
   "execution_count": 14,
   "id": "f2265003",
   "metadata": {},
   "outputs": [
    {
     "data": {
      "text/html": [
       "<div>\n",
       "<style scoped>\n",
       "    .dataframe tbody tr th:only-of-type {\n",
       "        vertical-align: middle;\n",
       "    }\n",
       "\n",
       "    .dataframe tbody tr th {\n",
       "        vertical-align: top;\n",
       "    }\n",
       "\n",
       "    .dataframe thead th {\n",
       "        text-align: right;\n",
       "    }\n",
       "</style>\n",
       "<table border=\"1\" class=\"dataframe\">\n",
       "  <thead>\n",
       "    <tr style=\"text-align: right;\">\n",
       "      <th></th>\n",
       "      <th>inflow</th>\n",
       "      <th>outflow</th>\n",
       "    </tr>\n",
       "  </thead>\n",
       "  <tbody>\n",
       "    <tr>\n",
       "      <th>0</th>\n",
       "      <td>345678.0</td>\n",
       "      <td>3.0</td>\n",
       "    </tr>\n",
       "    <tr>\n",
       "      <th>1</th>\n",
       "      <td>89905.0</td>\n",
       "      <td>4.0</td>\n",
       "    </tr>\n",
       "    <tr>\n",
       "      <th>2</th>\n",
       "      <td>567878.0</td>\n",
       "      <td>5.0</td>\n",
       "    </tr>\n",
       "    <tr>\n",
       "      <th>3</th>\n",
       "      <td>56789.0</td>\n",
       "      <td>6.0</td>\n",
       "    </tr>\n",
       "    <tr>\n",
       "      <th>4</th>\n",
       "      <td>52535.0</td>\n",
       "      <td>7.0</td>\n",
       "    </tr>\n",
       "    <tr>\n",
       "      <th>5</th>\n",
       "      <td>8765.0</td>\n",
       "      <td>8.0</td>\n",
       "    </tr>\n",
       "    <tr>\n",
       "      <th>7</th>\n",
       "      <td>2345678.0</td>\n",
       "      <td>54.0</td>\n",
       "    </tr>\n",
       "    <tr>\n",
       "      <th>9</th>\n",
       "      <td>54322.0</td>\n",
       "      <td>23.0</td>\n",
       "    </tr>\n",
       "    <tr>\n",
       "      <th>10</th>\n",
       "      <td>9865.0</td>\n",
       "      <td>43.0</td>\n",
       "    </tr>\n",
       "    <tr>\n",
       "      <th>11</th>\n",
       "      <td>5432.0</td>\n",
       "      <td>543.0</td>\n",
       "    </tr>\n",
       "    <tr>\n",
       "      <th>12</th>\n",
       "      <td>987654.0</td>\n",
       "      <td>3.0</td>\n",
       "    </tr>\n",
       "  </tbody>\n",
       "</table>\n",
       "</div>"
      ],
      "text/plain": [
       "       inflow  outflow\n",
       "0    345678.0      3.0\n",
       "1     89905.0      4.0\n",
       "2    567878.0      5.0\n",
       "3     56789.0      6.0\n",
       "4     52535.0      7.0\n",
       "5      8765.0      8.0\n",
       "7   2345678.0     54.0\n",
       "9     54322.0     23.0\n",
       "10     9865.0     43.0\n",
       "11     5432.0    543.0\n",
       "12   987654.0      3.0"
      ]
     },
     "execution_count": 14,
     "metadata": {},
     "output_type": "execute_result"
    }
   ],
   "source": [
    "data.dropna()"
   ]
  },
  {
   "cell_type": "code",
   "execution_count": 15,
   "id": "c25df78d",
   "metadata": {},
   "outputs": [
    {
     "name": "stdout",
     "output_type": "stream",
     "text": [
      "Optimization terminated successfully.\n",
      "         Current function value: 13.576425\n",
      "         Iterations: 7\n",
      "         Function evaluations: 8\n",
      "         Gradient evaluations: 8\n",
      "Optimization terminated successfully.\n",
      "         Current function value: 4.780766\n",
      "         Iterations: 5\n",
      "         Function evaluations: 8\n",
      "         Gradient evaluations: 8\n"
     ]
    }
   ],
   "source": [
    "Xin = np.ones_like(data[\"inflow\"])\n",
    "Xout = np.ones_like(data[\"inflow\"])\n",
    "nb_inflow = sm.NegativeBinomial(data[\"inflow\"], Xin).fit()\n",
    "nb_outflow = sm.NegativeBinomial(data[\"outflow\"], Xout).fit()"
   ]
  },
  {
   "cell_type": "code",
   "execution_count": 16,
   "id": "ab1f5e09",
   "metadata": {},
   "outputs": [
    {
     "data": {
      "text/plain": [
       "const    12.927123\n",
       "alpha     2.335708\n",
       "dtype: float64"
      ]
     },
     "execution_count": 16,
     "metadata": {},
     "output_type": "execute_result"
    }
   ],
   "source": [
    "nb_inflow.params"
   ]
  },
  {
   "cell_type": "code",
   "execution_count": 58,
   "id": "f96facb1",
   "metadata": {},
   "outputs": [],
   "source": [
    "def simulate_negbin(model):\n",
    "    mu = np.exp(model.params[0])\n",
    "    p = 1/(1+np.exp(model.params[0])*model.params[1])\n",
    "    n = np.exp(model.params[0])*p/(1-p)\n",
    "    return np.random.negative_binomial(n, p, 10000)\n",
    "    "
   ]
  },
  {
   "cell_type": "code",
   "execution_count": 59,
   "id": "c5087bf1",
   "metadata": {},
   "outputs": [],
   "source": [
    "inflow = simulate_negbin(nb_inflow)\n",
    "outflow = simulate_negbin(nb_outflow)\n",
    "df = pd.DataFrame({\"inflow\": inflow+1, \"outflow\": outflow+1})"
   ]
  },
  {
   "cell_type": "code",
   "execution_count": 60,
   "id": "ab1b2ff6",
   "metadata": {},
   "outputs": [],
   "source": [
    "df[\"outflow\"] = df[\"outflow\"]+1\n",
    "df[\"inflow\"] = df[\"inflow\"]+1\n"
   ]
  },
  {
   "cell_type": "code",
   "execution_count": 61,
   "id": "b60c4f1b",
   "metadata": {},
   "outputs": [],
   "source": [
    "df[\"login\"] = np.log10(df[\"inflow\"])"
   ]
  },
  {
   "cell_type": "code",
   "execution_count": 62,
   "id": "c74c01ae",
   "metadata": {},
   "outputs": [],
   "source": [
    "df[\"LRV\"] =np.log10((df[\"inflow\"])/df[\"outflow\"])\n"
   ]
  },
  {
   "cell_type": "code",
   "execution_count": 63,
   "id": "0fd82e6a",
   "metadata": {},
   "outputs": [
    {
     "data": {
      "text/html": [
       "<div>\n",
       "<style scoped>\n",
       "    .dataframe tbody tr th:only-of-type {\n",
       "        vertical-align: middle;\n",
       "    }\n",
       "\n",
       "    .dataframe tbody tr th {\n",
       "        vertical-align: top;\n",
       "    }\n",
       "\n",
       "    .dataframe thead th {\n",
       "        text-align: right;\n",
       "    }\n",
       "</style>\n",
       "<table border=\"1\" class=\"dataframe\">\n",
       "  <thead>\n",
       "    <tr style=\"text-align: right;\">\n",
       "      <th></th>\n",
       "      <th>inflow</th>\n",
       "      <th>outflow</th>\n",
       "      <th>login</th>\n",
       "      <th>LRV</th>\n",
       "    </tr>\n",
       "  </thead>\n",
       "  <tbody>\n",
       "    <tr>\n",
       "      <th>count</th>\n",
       "      <td>1.000000e+04</td>\n",
       "      <td>10000.000000</td>\n",
       "      <td>10000.000000</td>\n",
       "      <td>10000.000000</td>\n",
       "    </tr>\n",
       "    <tr>\n",
       "      <th>mean</th>\n",
       "      <td>4.280572e+05</td>\n",
       "      <td>64.697800</td>\n",
       "      <td>4.986912</td>\n",
       "      <td>3.633516</td>\n",
       "    </tr>\n",
       "    <tr>\n",
       "      <th>std</th>\n",
       "      <td>6.387981e+05</td>\n",
       "      <td>97.158351</td>\n",
       "      <td>1.062100</td>\n",
       "      <td>1.271978</td>\n",
       "    </tr>\n",
       "    <tr>\n",
       "      <th>min</th>\n",
       "      <td>2.000000e+00</td>\n",
       "      <td>2.000000</td>\n",
       "      <td>0.301030</td>\n",
       "      <td>-2.342423</td>\n",
       "    </tr>\n",
       "    <tr>\n",
       "      <th>25%</th>\n",
       "      <td>3.079275e+04</td>\n",
       "      <td>6.000000</td>\n",
       "      <td>4.488448</td>\n",
       "      <td>2.942730</td>\n",
       "    </tr>\n",
       "    <tr>\n",
       "      <th>50%</th>\n",
       "      <td>1.671295e+05</td>\n",
       "      <td>26.000000</td>\n",
       "      <td>5.223053</td>\n",
       "      <td>3.774518</td>\n",
       "    </tr>\n",
       "    <tr>\n",
       "      <th>75%</th>\n",
       "      <td>5.570605e+05</td>\n",
       "      <td>82.000000</td>\n",
       "      <td>5.745902</td>\n",
       "      <td>4.526836</td>\n",
       "    </tr>\n",
       "    <tr>\n",
       "      <th>max</th>\n",
       "      <td>5.769794e+06</td>\n",
       "      <td>1072.000000</td>\n",
       "      <td>6.761160</td>\n",
       "      <td>6.433687</td>\n",
       "    </tr>\n",
       "  </tbody>\n",
       "</table>\n",
       "</div>"
      ],
      "text/plain": [
       "             inflow       outflow         login           LRV\n",
       "count  1.000000e+04  10000.000000  10000.000000  10000.000000\n",
       "mean   4.280572e+05     64.697800      4.986912      3.633516\n",
       "std    6.387981e+05     97.158351      1.062100      1.271978\n",
       "min    2.000000e+00      2.000000      0.301030     -2.342423\n",
       "25%    3.079275e+04      6.000000      4.488448      2.942730\n",
       "50%    1.671295e+05     26.000000      5.223053      3.774518\n",
       "75%    5.570605e+05     82.000000      5.745902      4.526836\n",
       "max    5.769794e+06   1072.000000      6.761160      6.433687"
      ]
     },
     "execution_count": 63,
     "metadata": {},
     "output_type": "execute_result"
    }
   ],
   "source": [
    "df.describe()"
   ]
  },
  {
   "cell_type": "code",
   "execution_count": 65,
   "id": "1935a4cd",
   "metadata": {},
   "outputs": [],
   "source": [
    "q = df.quantile([.1, .5, .9])"
   ]
  },
  {
   "cell_type": "code",
   "execution_count": 73,
   "id": "29d4a08a",
   "metadata": {},
   "outputs": [
    {
     "data": {
      "text/plain": [
       "0.1    1.974231\n",
       "0.5    3.774518\n",
       "0.9    5.127296\n",
       "Name: LRV, dtype: float64"
      ]
     },
     "execution_count": 73,
     "metadata": {},
     "output_type": "execute_result"
    }
   ],
   "source": [
    "q[\"LRV\"]#.iloc[1]"
   ]
  },
  {
   "cell_type": "code",
   "execution_count": null,
   "id": "11baa131",
   "metadata": {},
   "outputs": [],
   "source": []
  }
 ],
 "metadata": {
  "kernelspec": {
   "display_name": "Django Shell-Plus",
   "language": "python",
   "name": "django_extensions"
  },
  "language_info": {
   "codemirror_mode": {
    "name": "ipython",
    "version": 3
   },
   "file_extension": ".py",
   "mimetype": "text/x-python",
   "name": "python",
   "nbconvert_exporter": "python",
   "pygments_lexer": "ipython3",
   "version": "3.10.6"
  }
 },
 "nbformat": 4,
 "nbformat_minor": 5
}
