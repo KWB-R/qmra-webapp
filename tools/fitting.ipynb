{
 "cells": [
  {
   "cell_type": "markdown",
   "id": "fe51b2bc",
   "metadata": {},
   "source": [
    "# Fileupload"
   ]
  },
  {
   "cell_type": "code",
   "execution_count": 85,
   "id": "b5f65ec1",
   "metadata": {},
   "outputs": [],
   "source": [
    "import pandas as pd\n",
    "#import os\n",
    "import numpy as np\n",
    "import statsmodels.api as sm\n",
    "import scipy\n",
    "import plotly.express as px"
   ]
  },
  {
   "cell_type": "code",
   "execution_count": 40,
   "id": "4c1f8f43",
   "metadata": {},
   "outputs": [
    {
     "data": {
      "text/plain": [
       "'/home/wseis/qmra/tools'"
      ]
     },
     "execution_count": 40,
     "metadata": {},
     "output_type": "execute_result"
    }
   ],
   "source": [
    " os.getcwd()"
   ]
  },
  {
   "cell_type": "code",
   "execution_count": 41,
   "id": "ef31eb00",
   "metadata": {},
   "outputs": [],
   "source": [
    "data = pd.read_csv(\"./logremoval/testdata.csv\")"
   ]
  },
  {
   "cell_type": "code",
   "execution_count": 71,
   "id": "58f9d050",
   "metadata": {},
   "outputs": [],
   "source": []
  },
  {
   "cell_type": "code",
   "execution_count": 72,
   "id": "f2265003",
   "metadata": {},
   "outputs": [
    {
     "data": {
      "text/plain": [
       "491438.3076923077"
      ]
     },
     "execution_count": 72,
     "metadata": {},
     "output_type": "execute_result"
    }
   ],
   "source": []
  },
  {
   "cell_type": "code",
   "execution_count": 73,
   "id": "c25df78d",
   "metadata": {},
   "outputs": [
    {
     "name": "stdout",
     "output_type": "stream",
     "text": [
      "Optimization terminated successfully.\n",
      "         Current function value: 13.853863\n",
      "         Iterations: 6\n",
      "         Function evaluations: 7\n",
      "         Gradient evaluations: 7\n",
      "Optimization terminated successfully.\n",
      "         Current function value: 4.784866\n",
      "         Iterations: 4\n",
      "         Function evaluations: 7\n",
      "         Gradient evaluations: 7\n"
     ]
    }
   ],
   "source": [
    "Xin = np.ones_like(data[\"inflow\"])\n",
    "Xout = np.ones_like(data[\"inflow\"])\n",
    "nb_inflow = sm.NegativeBinomial(data[\"inflow\"], Xin).fit()\n",
    "nb_outflow = sm.NegativeBinomial(data[\"outflow\"], Xout).fit()"
   ]
  },
  {
   "cell_type": "code",
   "execution_count": 74,
   "id": "f96facb1",
   "metadata": {},
   "outputs": [],
   "source": [
    "def simulate_negbin(model):\n",
    "    mu = np.exp(model.params[0])\n",
    "    p = 1/(1+np.exp(model.params[0])*model.params[1])\n",
    "    n = np.exp(model.params[0])*p/(1-p)\n",
    "    return np.random.negative_binomial(n, p, 10000)\n",
    "    "
   ]
  },
  {
   "cell_type": "code",
   "execution_count": 116,
   "id": "c5087bf1",
   "metadata": {},
   "outputs": [],
   "source": [
    "inflow = simulate_negbin(nb_inflow)\n",
    "outflow = simulate_negbin(nb_outflow)\n",
    "df = pd.DataFrame({\"inflow\": inflow+1, \"outflow\": outflow+1})"
   ]
  },
  {
   "cell_type": "code",
   "execution_count": 117,
   "id": "ab1b2ff6",
   "metadata": {},
   "outputs": [],
   "source": [
    "df[\"outflow\"] = df[\"outflow\"]+1\n",
    "df[\"inflow\"] = df[\"inflow\"]+1\n"
   ]
  },
  {
   "cell_type": "code",
   "execution_count": 121,
   "id": "b60c4f1b",
   "metadata": {},
   "outputs": [],
   "source": [
    "df[\"login\"] = np.log10(df[\"inflow\"])"
   ]
  },
  {
   "cell_type": "code",
   "execution_count": 119,
   "id": "c74c01ae",
   "metadata": {},
   "outputs": [],
   "source": [
    "df[\"LRV\"] =np.log10((df[\"inflow\"])/df[\"outflow\"])\n"
   ]
  },
  {
   "cell_type": "code",
   "execution_count": 131,
   "id": "0fd82e6a",
   "metadata": {},
   "outputs": [
    {
     "data": {
      "text/plain": [
       "inflow     6327.800000\n",
       "outflow       1.000000\n",
       "q             2.199167\n",
       "login         3.801253\n",
       "Name: 0.1, dtype: float64"
      ]
     },
     "execution_count": 131,
     "metadata": {},
     "output_type": "execute_result"
    }
   ],
   "source": [
    "df.describe()"
   ]
  },
  {
   "cell_type": "code",
   "execution_count": 144,
   "id": "1935a4cd",
   "metadata": {},
   "outputs": [
    {
     "data": {
      "text/html": [
       "<div>\n",
       "<style scoped>\n",
       "    .dataframe tbody tr th:only-of-type {\n",
       "        vertical-align: middle;\n",
       "    }\n",
       "\n",
       "    .dataframe tbody tr th {\n",
       "        vertical-align: top;\n",
       "    }\n",
       "\n",
       "    .dataframe thead th {\n",
       "        text-align: right;\n",
       "    }\n",
       "</style>\n",
       "<table border=\"1\" class=\"dataframe\">\n",
       "  <thead>\n",
       "    <tr style=\"text-align: right;\">\n",
       "      <th></th>\n",
       "      <th>inflow</th>\n",
       "      <th>outflow</th>\n",
       "      <th>q</th>\n",
       "      <th>login</th>\n",
       "    </tr>\n",
       "  </thead>\n",
       "  <tbody>\n",
       "    <tr>\n",
       "      <th>0.1</th>\n",
       "      <td>6327.8</td>\n",
       "      <td>1.0</td>\n",
       "      <td>2.199167</td>\n",
       "      <td>3.801253</td>\n",
       "    </tr>\n",
       "    <tr>\n",
       "      <th>0.5</th>\n",
       "      <td>211670.5</td>\n",
       "      <td>25.0</td>\n",
       "      <td>3.876889</td>\n",
       "      <td>5.325660</td>\n",
       "    </tr>\n",
       "    <tr>\n",
       "      <th>0.9</th>\n",
       "      <td>1339456.0</td>\n",
       "      <td>176.0</td>\n",
       "      <td>5.349366</td>\n",
       "      <td>6.126928</td>\n",
       "    </tr>\n",
       "  </tbody>\n",
       "</table>\n",
       "</div>"
      ],
      "text/plain": [
       "        inflow  outflow         q     login\n",
       "0.1     6327.8      1.0  2.199167  3.801253\n",
       "0.5   211670.5     25.0  3.876889  5.325660\n",
       "0.9  1339456.0    176.0  5.349366  6.126928"
      ]
     },
     "execution_count": 144,
     "metadata": {},
     "output_type": "execute_result"
    }
   ],
   "source": [
    "df.quantile([.1, .5, .9])"
   ]
  },
  {
   "cell_type": "code",
   "execution_count": 143,
   "id": "29d4a08a",
   "metadata": {},
   "outputs": [
    {
     "data": {
      "text/plain": [
       "6327.8"
      ]
     },
     "execution_count": 143,
     "metadata": {},
     "output_type": "execute_result"
    }
   ],
   "source": [
    "np.quantile(df[\"inflow\"], 0.1)"
   ]
  },
  {
   "cell_type": "code",
   "execution_count": null,
   "id": "11baa131",
   "metadata": {},
   "outputs": [],
   "source": []
  }
 ],
 "metadata": {
  "kernelspec": {
   "display_name": "Django Shell-Plus",
   "language": "python",
   "name": "django_extensions"
  },
  "language_info": {
   "codemirror_mode": {
    "name": "ipython",
    "version": 3
   },
   "file_extension": ".py",
   "mimetype": "text/x-python",
   "name": "python",
   "nbconvert_exporter": "python",
   "pygments_lexer": "ipython3",
   "version": "3.10.6"
  }
 },
 "nbformat": 4,
 "nbformat_minor": 5
}
